{
  "nbformat": 4,
  "nbformat_minor": 0,
  "metadata": {
    "colab": {
      "name": "ISB_Pytorch_Intro.ipynb",
      "provenance": [],
      "collapsed_sections": []
    },
    "kernelspec": {
      "display_name": "Python 3",
      "language": "python",
      "name": "python3"
    },
    "language_info": {
      "codemirror_mode": {
        "name": "ipython",
        "version": 3
      },
      "file_extension": ".py",
      "mimetype": "text/x-python",
      "name": "python",
      "nbconvert_exporter": "python",
      "pygments_lexer": "ipython3",
      "version": "3.6.10"
    }
  },
  "cells": [
    {
      "cell_type": "markdown",
      "source": [
        "<h1><center>PyTorch Introduction</center></h1>"
      ],
      "metadata": {
        "id": "rOhddYaBUvsj"
      }
    },
    {
      "cell_type": "markdown",
      "source": [
        "<br> A deep learning framework is an interface, library or a tool which allows us to build deep learning models more easily and quickly, without getting into the details of underlying algorithms. They provide a clear and concise way for defining models using a collection of pre-built and optimized components. PyTorch, TensorFlow, Keras are examples for commonly used deep learning frameworks.\n",
        "\n",
        "\n",
        "<br><br>A standard deeplearning framework can:\n",
        "<ul><li>Build and operate computational graphs (More on this to follow)</li>\n",
        "    <li>Perform forward and back propagation</li>\n",
        "    <li>Parallelize on GPU</li>\n",
        "    <li>Provide standard architecture and other widely used primitives</li>\n",
        "    </ul>\n",
        "    \n",
        "Why Pytorch?\n",
        "\n",
        "<ul><li>Dynamic computational graph</li>\n",
        "    <li>Memory efficient Usage</li>\n",
        "    <li>Developer friendly: easy to implement, debug</li>\n",
        "    <li>Tensor computation with strong gpu acceleration</li>\n",
        "    </ul>\n",
        "\n",
        "<h2>Basics of PyTorch</h2>\n",
        "\n",
        "<h3>Building Block #1 : Tensors</h3>\n",
        "\n",
        "If you’ve ever done machine learning in python, you’ve probably come across NumPy. The reason why we use Numpy is because it’s much faster than Python lists at doing matrix ops. Why? Because it does most of the heavy lifting in C.\n",
        "\n",
        "But, in case of training deep neural networks, NumPy arrays simply don’t cut it. Code written using NumPy arrays alone would take months to train some of the state of the art networks. This is where Tensors come into play. PyTorch provides us with a data structure called Tensors, which is very similar to NumPy’s ndarray. But unlike the latter, <b>tensors can tap into resources of a GPU to significantly speed up matrix operations</b>."
      ],
      "metadata": {
        "id": "uOOP0znvU0rx"
      }
    },
    {
      "cell_type": "code",
      "metadata": {
        "cellView": "form",
        "id": "R10gTaB_a4RI",
        "colab": {
          "base_uri": "https://localhost:8080/"
        },
        "outputId": "abab2c9d-0c95-46eb-fba6-ddb53d92a983"
      },
      "source": [
        "!pip3 install torch"
      ],
      "execution_count": null,
      "outputs": [
        {
          "output_type": "stream",
          "name": "stdout",
          "text": [
            "Requirement already satisfied: torch in /usr/local/lib/python3.7/dist-packages (1.9.0+cu111)\n",
            "Requirement already satisfied: typing-extensions in /usr/local/lib/python3.7/dist-packages (from torch) (3.7.4.3)\n"
          ]
        }
      ]
    },
    {
      "cell_type": "code",
      "metadata": {
        "id": "1yQyeW447oPX"
      },
      "source": [
        "import torch\n",
        "import numpy as np"
      ],
      "execution_count": null,
      "outputs": []
    },
    {
      "cell_type": "code",
      "metadata": {
        "id": "V0m8NquV9AkO",
        "colab": {
          "base_uri": "https://localhost:8080/"
        },
        "outputId": "69e2edfa-9b41-4ac5-f133-31f8f492f663"
      },
      "source": [
        "print(torch.__version__)"
      ],
      "execution_count": null,
      "outputs": [
        {
          "output_type": "stream",
          "name": "stdout",
          "text": [
            "1.9.0+cu111\n"
          ]
        }
      ]
    },
    {
      "cell_type": "markdown",
      "metadata": {
        "id": "q3Gvc41f_sZX"
      },
      "source": [
        "#**Tensor**"
      ]
    },
    {
      "cell_type": "markdown",
      "metadata": {
        "id": "ibPI9LWv3n1I"
      },
      "source": [
        "###Initializing a tensor"
      ]
    },
    {
      "cell_type": "code",
      "metadata": {
        "id": "boujstAO_tez",
        "colab": {
          "base_uri": "https://localhost:8080/"
        },
        "outputId": "6e1332d8-acd0-4a03-ae7d-c47c0a648024"
      },
      "source": [
        "# Initializing a tensor\n",
        "a = torch.Tensor([2,3])\n",
        "print(a.size())\n",
        "print(a)"
      ],
      "execution_count": null,
      "outputs": [
        {
          "output_type": "stream",
          "name": "stdout",
          "text": [
            "torch.Size([2])\n",
            "tensor([2., 3.])\n"
          ]
        }
      ]
    },
    {
      "cell_type": "code",
      "metadata": {
        "id": "nvRbCmeeA8-4",
        "colab": {
          "base_uri": "https://localhost:8080/",
          "height": 35
        },
        "outputId": "26485cb8-9038-41e3-d69b-43b834f60492"
      },
      "source": [
        "a.type()"
      ],
      "execution_count": null,
      "outputs": [
        {
          "output_type": "execute_result",
          "data": {
            "application/vnd.google.colaboratory.intrinsic+json": {
              "type": "string"
            },
            "text/plain": [
              "'torch.FloatTensor'"
            ]
          },
          "metadata": {},
          "execution_count": 6
        }
      ]
    },
    {
      "cell_type": "code",
      "metadata": {
        "id": "HaOUoWCIgzkP",
        "colab": {
          "base_uri": "https://localhost:8080/"
        },
        "outputId": "24dc2e6f-9591-453a-cd50-6c56e78382e1"
      },
      "source": [
        "t = torch.Tensor([[1, 2, 3], [4, 5, 6]])\n",
        "print(t)\n",
        "print(t.t())\n",
        "print(t.size())"
      ],
      "execution_count": null,
      "outputs": [
        {
          "output_type": "stream",
          "name": "stdout",
          "text": [
            "tensor([[1., 2., 3.],\n",
            "        [4., 5., 6.]])\n",
            "tensor([[1., 4.],\n",
            "        [2., 5.],\n",
            "        [3., 6.]])\n",
            "torch.Size([2, 3])\n"
          ]
        }
      ]
    },
    {
      "cell_type": "markdown",
      "metadata": {
        "id": "erGJUPD_3wnf"
      },
      "source": [
        "### Creating a scalar tensor"
      ]
    },
    {
      "cell_type": "code",
      "metadata": {
        "id": "ntQetme0JVrG",
        "colab": {
          "base_uri": "https://localhost:8080/"
        },
        "outputId": "a0d37cfa-99bd-43ac-e957-353e660d3efd"
      },
      "source": [
        "a = torch.tensor(20)\n",
        "print(a)\n",
        "print(a.size())\n",
        "print(a.type())"
      ],
      "execution_count": null,
      "outputs": [
        {
          "output_type": "stream",
          "name": "stdout",
          "text": [
            "tensor(20)\n",
            "torch.Size([])\n",
            "torch.LongTensor\n"
          ]
        }
      ]
    },
    {
      "cell_type": "markdown",
      "metadata": {
        "id": "ZVe0vlBf33Rk"
      },
      "source": [
        "###Converting pytorch tensor to scalar"
      ]
    },
    {
      "cell_type": "code",
      "metadata": {
        "id": "YG-0BGYS31NC",
        "colab": {
          "base_uri": "https://localhost:8080/"
        },
        "outputId": "92b2aca5-1cc2-4c86-c1d4-6c1445f3a9dc"
      },
      "source": [
        "print(a.item())\n",
        "print(type(a.item()))"
      ],
      "execution_count": null,
      "outputs": [
        {
          "output_type": "stream",
          "name": "stdout",
          "text": [
            "20\n",
            "<class 'int'>\n"
          ]
        }
      ]
    },
    {
      "cell_type": "markdown",
      "metadata": {
        "id": "LkaFxLkq4BU1"
      },
      "source": [
        "###Creating a float tensor"
      ]
    },
    {
      "cell_type": "code",
      "metadata": {
        "id": "weOySs2yCdZr",
        "colab": {
          "base_uri": "https://localhost:8080/",
          "height": 35
        },
        "outputId": "db0d966f-5293-40e3-e29f-59854f9dfa02"
      },
      "source": [
        "a = torch.tensor([2.0,3])\n",
        "a.type()"
      ],
      "execution_count": null,
      "outputs": [
        {
          "output_type": "execute_result",
          "data": {
            "application/vnd.google.colaboratory.intrinsic+json": {
              "type": "string"
            },
            "text/plain": [
              "'torch.FloatTensor'"
            ]
          },
          "metadata": {},
          "execution_count": 12
        }
      ]
    },
    {
      "cell_type": "markdown",
      "metadata": {
        "id": "_4xjFsBB4E7V"
      },
      "source": [
        "###Providing the data type while creating the tensor"
      ]
    },
    {
      "cell_type": "code",
      "metadata": {
        "id": "wLNhdgLACwfN",
        "colab": {
          "base_uri": "https://localhost:8080/",
          "height": 35
        },
        "outputId": "7caa5be2-a73e-48ca-dc25-8657b5a11456"
      },
      "source": [
        "a = torch.tensor([2,3],dtype=torch.int32)\n",
        "a.type()"
      ],
      "execution_count": null,
      "outputs": [
        {
          "output_type": "execute_result",
          "data": {
            "application/vnd.google.colaboratory.intrinsic+json": {
              "type": "string"
            },
            "text/plain": [
              "'torch.IntTensor'"
            ]
          },
          "metadata": {},
          "execution_count": 13
        }
      ]
    },
    {
      "cell_type": "markdown",
      "metadata": {
        "id": "shuIdBhA4LAX"
      },
      "source": [
        "###Just like numpy, creating a tensor by copying another tensor results, pointing to same memory location\n",
        "\n",
        "\n",
        "\n",
        "\n",
        "\n",
        "\n",
        "\n"
      ]
    },
    {
      "cell_type": "code",
      "metadata": {
        "id": "NtMzpVhkDhQ3",
        "colab": {
          "base_uri": "https://localhost:8080/"
        },
        "outputId": "ace6f288-bbd4-4670-ab7e-38409473464f"
      },
      "source": [
        "a = torch.tensor([2.0, 3])\n",
        "b = a\n",
        "b[0] = 11\n",
        "print(a)\n",
        "print(b)"
      ],
      "execution_count": null,
      "outputs": [
        {
          "output_type": "stream",
          "name": "stdout",
          "text": [
            "tensor([11.,  3.])\n",
            "tensor([11.,  3.])\n"
          ]
        }
      ]
    },
    {
      "cell_type": "markdown",
      "metadata": {
        "id": "ymR9skNc4OfB"
      },
      "source": [
        "###2D tensor"
      ]
    },
    {
      "cell_type": "code",
      "metadata": {
        "id": "TZ2VIKmgEW-u",
        "colab": {
          "base_uri": "https://localhost:8080/"
        },
        "outputId": "78d9427e-6e74-42a8-ed8b-524b51ec36d3"
      },
      "source": [
        "a = torch.tensor([[1,2],[3,4]])\n",
        "print(a)"
      ],
      "execution_count": null,
      "outputs": [
        {
          "output_type": "stream",
          "name": "stdout",
          "text": [
            "tensor([[1, 2],\n",
            "        [3, 4]])\n"
          ]
        }
      ]
    },
    {
      "cell_type": "markdown",
      "metadata": {
        "id": "eeWWw8pd418E"
      },
      "source": [
        "###Creating and initializing a tensor with random values"
      ]
    },
    {
      "cell_type": "code",
      "metadata": {
        "id": "m-MUv5zpFRoq",
        "colab": {
          "base_uri": "https://localhost:8080/"
        },
        "outputId": "0836cd9d-6953-4cdb-f84c-8f692c31ae81"
      },
      "source": [
        "a = torch.rand(3,4)\n",
        "print(a)"
      ],
      "execution_count": null,
      "outputs": [
        {
          "output_type": "stream",
          "name": "stdout",
          "text": [
            "tensor([[0.9336, 0.0718, 0.4886, 0.5191],\n",
            "        [0.1689, 0.6176, 0.7010, 0.2248],\n",
            "        [0.7264, 0.4389, 0.0591, 0.9212]])\n"
          ]
        }
      ]
    },
    {
      "cell_type": "markdown",
      "metadata": {
        "id": "f2fOgMay455N"
      },
      "source": [
        "###Creating and initializing a float tensor with zeros"
      ]
    },
    {
      "cell_type": "code",
      "metadata": {
        "id": "y9_68kZ8F7Ba",
        "colab": {
          "base_uri": "https://localhost:8080/"
        },
        "outputId": "3744c994-e398-4c49-8cf1-2590f17c7586"
      },
      "source": [
        "a = torch.zeros((4,5), dtype=torch.float32)\n",
        "print(a)"
      ],
      "execution_count": null,
      "outputs": [
        {
          "output_type": "stream",
          "name": "stdout",
          "text": [
            "tensor([[0., 0., 0., 0., 0.],\n",
            "        [0., 0., 0., 0., 0.],\n",
            "        [0., 0., 0., 0., 0.],\n",
            "        [0., 0., 0., 0., 0.]])\n"
          ]
        }
      ]
    },
    {
      "cell_type": "markdown",
      "metadata": {
        "id": "vffsQ4344974"
      },
      "source": [
        "###Creating an Identity tensor"
      ]
    },
    {
      "cell_type": "code",
      "metadata": {
        "id": "3xBd2Fu1GqVv",
        "colab": {
          "base_uri": "https://localhost:8080/"
        },
        "outputId": "ade63cca-4e8d-4820-9b3a-493ae5e057fa"
      },
      "source": [
        "a = torch.eye(4,4)\n",
        "print(a)"
      ],
      "execution_count": null,
      "outputs": [
        {
          "output_type": "stream",
          "name": "stdout",
          "text": [
            "tensor([[1., 0., 0., 0.],\n",
            "        [0., 1., 0., 0.],\n",
            "        [0., 0., 1., 0.],\n",
            "        [0., 0., 0., 1.]])\n"
          ]
        }
      ]
    },
    {
      "cell_type": "markdown",
      "metadata": {
        "id": "aZ33siBjFGrN"
      },
      "source": [
        "#**Tensor Operations**"
      ]
    },
    {
      "cell_type": "markdown",
      "metadata": {
        "id": "K4YECoP35BQm"
      },
      "source": [
        "###Addition of two tensor"
      ]
    },
    {
      "cell_type": "code",
      "metadata": {
        "id": "ahpXC1TQFJ5a",
        "colab": {
          "base_uri": "https://localhost:8080/"
        },
        "outputId": "725e03cb-1b5e-463e-9f02-680a539e4fd3"
      },
      "source": [
        "x = torch.rand(3,3)\n",
        "y = torch.rand(3,3)\n",
        "z = x+y\n",
        "print(z)"
      ],
      "execution_count": null,
      "outputs": [
        {
          "output_type": "stream",
          "name": "stdout",
          "text": [
            "tensor([[1.2852, 1.0688, 1.5402],\n",
            "        [0.9634, 1.7414, 1.7617],\n",
            "        [1.1848, 0.6069, 1.2641]])\n"
          ]
        }
      ]
    },
    {
      "cell_type": "markdown",
      "metadata": {
        "id": "ncyqH1wm5G50"
      },
      "source": [
        "###Addition of two tensor (alternative)"
      ]
    },
    {
      "cell_type": "code",
      "metadata": {
        "id": "xgIqg4g4IfVe",
        "colab": {
          "base_uri": "https://localhost:8080/"
        },
        "outputId": "353f207d-6d18-45b3-cf70-7f0deb11125b"
      },
      "source": [
        "z = x.add(y)\n",
        "print(z)\n",
        "print(x)"
      ],
      "execution_count": null,
      "outputs": [
        {
          "output_type": "stream",
          "name": "stdout",
          "text": [
            "tensor([[1.2852, 1.0688, 1.5402],\n",
            "        [0.9634, 1.7414, 1.7617],\n",
            "        [1.1848, 0.6069, 1.2641]])\n",
            "tensor([[0.3152, 0.9455, 0.6795],\n",
            "        [0.6613, 0.7484, 0.9434],\n",
            "        [0.2093, 0.0402, 0.5458]])\n"
          ]
        }
      ]
    },
    {
      "cell_type": "markdown",
      "metadata": {
        "id": "lIN8u1A_5OlI"
      },
      "source": [
        "###Inplace addition of two tensor"
      ]
    },
    {
      "cell_type": "code",
      "metadata": {
        "id": "AOqXYTkgIjfp",
        "colab": {
          "base_uri": "https://localhost:8080/"
        },
        "outputId": "85e288f5-7ffe-4743-f880-04ea42d75883"
      },
      "source": [
        "print(x)\n",
        "\n",
        "x.add_(y)\n",
        "\n",
        "print(x)"
      ],
      "execution_count": null,
      "outputs": [
        {
          "output_type": "stream",
          "name": "stdout",
          "text": [
            "tensor([[0.3152, 0.9455, 0.6795],\n",
            "        [0.6613, 0.7484, 0.9434],\n",
            "        [0.2093, 0.0402, 0.5458]])\n",
            "tensor([[1.2852, 1.0688, 1.5402],\n",
            "        [0.9634, 1.7414, 1.7617],\n",
            "        [1.1848, 0.6069, 1.2641]])\n"
          ]
        }
      ]
    },
    {
      "cell_type": "markdown",
      "metadata": {
        "id": "kI1TfG2B5lBP"
      },
      "source": [
        "###Element wise multiplication"
      ]
    },
    {
      "cell_type": "code",
      "metadata": {
        "id": "-IxgHBbzIuDF",
        "colab": {
          "base_uri": "https://localhost:8080/"
        },
        "outputId": "9e1ce96e-e4dd-40f9-92d4-8eea0c472ed1"
      },
      "source": [
        "print(x*y)"
      ],
      "execution_count": null,
      "outputs": [
        {
          "output_type": "stream",
          "name": "stdout",
          "text": [
            "tensor([[1.2465, 0.1318, 1.3257],\n",
            "        [0.2910, 1.7293, 1.4418],\n",
            "        [1.1557, 0.3440, 0.9081]])\n"
          ]
        }
      ]
    },
    {
      "cell_type": "markdown",
      "metadata": {
        "id": "naidinMb5oxT"
      },
      "source": [
        "###Matrix multiplication"
      ]
    },
    {
      "cell_type": "code",
      "metadata": {
        "id": "LtN0vws3KlbS",
        "colab": {
          "base_uri": "https://localhost:8080/"
        },
        "outputId": "5636f3c6-320a-4046-aaba-624168880eac"
      },
      "source": [
        "z = torch.matmul(x,y[:,0])\n",
        "print(z)\n",
        "z.size()"
      ],
      "execution_count": null,
      "outputs": [
        {
          "output_type": "stream",
          "name": "stdout",
          "text": [
            "tensor([3.0718, 3.1789, 2.5655])\n"
          ]
        },
        {
          "output_type": "execute_result",
          "data": {
            "text/plain": [
              "torch.Size([3])"
            ]
          },
          "metadata": {},
          "execution_count": 24
        }
      ]
    },
    {
      "cell_type": "markdown",
      "metadata": {
        "id": "s7qePwsG5zrc"
      },
      "source": [
        "###Reshaping tensors"
      ]
    },
    {
      "cell_type": "code",
      "metadata": {
        "id": "vKJcA3gxR1ab",
        "colab": {
          "base_uri": "https://localhost:8080/"
        },
        "outputId": "d8bfd16d-eb9d-4eb1-8150-45d150539ca5"
      },
      "source": [
        "x = torch.rand(5,6)\n",
        "print(\"Size of x :\\n\",x.size())\n",
        "print(\"x:\\n\",x)\n",
        "y = x.view(30)\n",
        "print(\"Size of y :\\n\",y.size())\n",
        "print(\"y:\\n\",y)\n",
        "z = x.view(-1,10)\n",
        "print(\"Size of z :\\n\",z.size())\n",
        "print(\"z:\\n\",z)"
      ],
      "execution_count": null,
      "outputs": [
        {
          "output_type": "stream",
          "name": "stdout",
          "text": [
            "Size of x :\n",
            " torch.Size([5, 6])\n",
            "x:\n",
            " tensor([[0.1808, 0.2798, 0.1001, 0.8788, 0.2175, 0.3829],\n",
            "        [0.9246, 0.5312, 0.7534, 0.7185, 0.5153, 0.0085],\n",
            "        [0.3115, 0.4442, 0.6725, 0.6930, 0.1210, 0.1716],\n",
            "        [0.3036, 0.1205, 0.2236, 0.4457, 0.4829, 0.2851],\n",
            "        [0.3657, 0.8405, 0.3867, 0.5032, 0.9631, 0.6640]])\n",
            "Size of y :\n",
            " torch.Size([30])\n",
            "y:\n",
            " tensor([0.1808, 0.2798, 0.1001, 0.8788, 0.2175, 0.3829, 0.9246, 0.5312, 0.7534,\n",
            "        0.7185, 0.5153, 0.0085, 0.3115, 0.4442, 0.6725, 0.6930, 0.1210, 0.1716,\n",
            "        0.3036, 0.1205, 0.2236, 0.4457, 0.4829, 0.2851, 0.3657, 0.8405, 0.3867,\n",
            "        0.5032, 0.9631, 0.6640])\n",
            "Size of z :\n",
            " torch.Size([3, 10])\n",
            "z:\n",
            " tensor([[0.1808, 0.2798, 0.1001, 0.8788, 0.2175, 0.3829, 0.9246, 0.5312, 0.7534,\n",
            "         0.7185],\n",
            "        [0.5153, 0.0085, 0.3115, 0.4442, 0.6725, 0.6930, 0.1210, 0.1716, 0.3036,\n",
            "         0.1205],\n",
            "        [0.2236, 0.4457, 0.4829, 0.2851, 0.3657, 0.8405, 0.3867, 0.5032, 0.9631,\n",
            "         0.6640]])\n"
          ]
        }
      ]
    },
    {
      "cell_type": "markdown",
      "metadata": {
        "id": "7Q8u8Ybl6aTE"
      },
      "source": [
        "###Generating Numbers in Sequence"
      ]
    },
    {
      "cell_type": "code",
      "metadata": {
        "id": "lKZfbRSmTrKZ",
        "colab": {
          "base_uri": "https://localhost:8080/"
        },
        "outputId": "cc929216-3a0b-4d61-a8c9-ddd81c52119e"
      },
      "source": [
        "x = torch.arange(9)\n",
        "print(x)\n",
        "x = x.view(3,3)\n",
        "print(x)"
      ],
      "execution_count": null,
      "outputs": [
        {
          "output_type": "stream",
          "name": "stdout",
          "text": [
            "tensor([0, 1, 2, 3, 4, 5, 6, 7, 8])\n",
            "tensor([[0, 1, 2],\n",
            "        [3, 4, 5],\n",
            "        [6, 7, 8]])\n"
          ]
        }
      ]
    },
    {
      "cell_type": "markdown",
      "metadata": {
        "id": "kn3gIaFa6mgN"
      },
      "source": [
        "###Concatenating two tensors at a given dimension"
      ]
    },
    {
      "cell_type": "code",
      "metadata": {
        "id": "Jq3lfDaV6ly8",
        "colab": {
          "base_uri": "https://localhost:8080/"
        },
        "outputId": "82f9eea7-9a7a-4ae1-afb9-6b632c6f284d"
      },
      "source": [
        "print(x)\n",
        "print(torch.cat((x,x),dim=0))\n",
        "print(torch.cat((x,x),dim=1))\n",
        "print(x+x)"
      ],
      "execution_count": null,
      "outputs": [
        {
          "output_type": "stream",
          "name": "stdout",
          "text": [
            "tensor([[0, 1, 2],\n",
            "        [3, 4, 5],\n",
            "        [6, 7, 8]])\n",
            "tensor([[0, 1, 2],\n",
            "        [3, 4, 5],\n",
            "        [6, 7, 8],\n",
            "        [0, 1, 2],\n",
            "        [3, 4, 5],\n",
            "        [6, 7, 8]])\n",
            "tensor([[0, 1, 2, 0, 1, 2],\n",
            "        [3, 4, 5, 3, 4, 5],\n",
            "        [6, 7, 8, 6, 7, 8]])\n",
            "tensor([[ 0,  2,  4],\n",
            "        [ 6,  8, 10],\n",
            "        [12, 14, 16]])\n"
          ]
        }
      ]
    },
    {
      "cell_type": "markdown",
      "metadata": {
        "id": "Wztx_uOL6s4_"
      },
      "source": [
        "###Reducing the redundant dimension by squeeze operation"
      ]
    },
    {
      "cell_type": "code",
      "metadata": {
        "id": "2bpPpJsVVPZj",
        "colab": {
          "base_uri": "https://localhost:8080/"
        },
        "outputId": "11b4cb5c-7b5b-4f0b-d94b-ebf6b6eb76d4"
      },
      "source": [
        "x1= torch.rand(1,5)\n",
        "print(\"size of x1 squeezing:\\n\",x1.size())\n",
        "print(x1)\n",
        "x1 = x1.squeeze()\n",
        "print(\"size of x1 after squeezing:\\n\", x1.size())\n",
        "print(x1)"
      ],
      "execution_count": null,
      "outputs": [
        {
          "output_type": "stream",
          "name": "stdout",
          "text": [
            "size of x1 squeezing:\n",
            " torch.Size([1, 5])\n",
            "tensor([[0.2832, 0.5935, 0.7873, 0.4188, 0.3939]])\n",
            "size of x1 after squeezing:\n",
            " torch.Size([5])\n",
            "tensor([0.2832, 0.5935, 0.7873, 0.4188, 0.3939])\n"
          ]
        }
      ]
    },
    {
      "cell_type": "code",
      "metadata": {
        "id": "KUSXmKCTgzpa",
        "colab": {
          "base_uri": "https://localhost:8080/"
        },
        "outputId": "7bea3f90-8fdf-425f-cad6-a95094260101"
      },
      "source": [
        "x1 = torch.rand(1,1,5)\n",
        "print(\"size of x1 before squeezing:\\n\", x1.size())\n",
        "print(x1)\n",
        "x1 = x1.squeeze()\n",
        "print(\"size of x1 after squeezing:\\n\", x1.size())\n",
        "print(x1)"
      ],
      "execution_count": null,
      "outputs": [
        {
          "output_type": "stream",
          "name": "stdout",
          "text": [
            "size of x1 before squeezing:\n",
            " torch.Size([1, 1, 5])\n",
            "tensor([[[0.3400, 0.8783, 0.8148, 0.0221, 0.8310]]])\n",
            "size of x1 after squeezing:\n",
            " torch.Size([5])\n",
            "tensor([0.3400, 0.8783, 0.8148, 0.0221, 0.8310])\n"
          ]
        }
      ]
    },
    {
      "cell_type": "code",
      "metadata": {
        "id": "uKD-tFDYe-lz",
        "colab": {
          "base_uri": "https://localhost:8080/"
        },
        "outputId": "bd6c7a15-d5fb-4636-e0cc-fb2eb2d60a60"
      },
      "source": [
        "x2 = torch.rand(3,1,4,1,5)\n",
        "print(\"size of x2 before squeezing:\\n\", x2.size())\n",
        "#print(x2)\n",
        "x2 = x2.squeeze()\n",
        "print(\"size of x2 after squeezing:\\n\", x2.size())\n",
        "#print(x2)"
      ],
      "execution_count": null,
      "outputs": [
        {
          "output_type": "stream",
          "name": "stdout",
          "text": [
            "size of x2 before squeezing:\n",
            " torch.Size([3, 1, 4, 1, 5])\n",
            "size of x2 after squeezing:\n",
            " torch.Size([3, 4, 5])\n"
          ]
        }
      ]
    },
    {
      "cell_type": "markdown",
      "metadata": {
        "id": "w-dy0VY077gG"
      },
      "source": [
        "###Extending the dimension by unsqueeze operation"
      ]
    },
    {
      "cell_type": "code",
      "metadata": {
        "id": "qt6GvYtJWtSp",
        "colab": {
          "base_uri": "https://localhost:8080/"
        },
        "outputId": "d8a53fa2-8fe0-4465-dfb8-b2dab80c21b0"
      },
      "source": [
        "x = torch.rand(3,4,5,6)\n",
        "print(x.size())\n",
        "print(x.unsqueeze(dim=2).size())\n",
        "print(x.unsqueeze(dim=3).size())\n",
        "print(x.unsqueeze(dim=4).size())"
      ],
      "execution_count": null,
      "outputs": [
        {
          "output_type": "stream",
          "name": "stdout",
          "text": [
            "torch.Size([3, 4, 5, 6])\n",
            "torch.Size([3, 4, 1, 5, 6])\n",
            "torch.Size([3, 4, 5, 1, 6])\n",
            "torch.Size([3, 4, 5, 6, 1])\n"
          ]
        }
      ]
    },
    {
      "cell_type": "markdown",
      "metadata": {
        "id": "uE2GJRkBasOw"
      },
      "source": [
        "###Numpy Bridge\n",
        "####Converting a numpy array to torch tensor"
      ]
    },
    {
      "cell_type": "code",
      "metadata": {
        "id": "26-U02yFZGT0",
        "colab": {
          "base_uri": "https://localhost:8080/",
          "height": 86
        },
        "outputId": "cd40e6c6-4b00-48ba-d289-b610126c9ffa"
      },
      "source": [
        "x = np.array([[1.0,2],[3,4]])\n",
        "print(type(x))\n",
        "y = torch.from_numpy(x)\n",
        "print(y)\n",
        "y.type()"
      ],
      "execution_count": null,
      "outputs": [
        {
          "output_type": "stream",
          "name": "stdout",
          "text": [
            "<class 'numpy.ndarray'>\n",
            "tensor([[1., 2.],\n",
            "        [3., 4.]], dtype=torch.float64)\n"
          ]
        },
        {
          "output_type": "execute_result",
          "data": {
            "application/vnd.google.colaboratory.intrinsic+json": {
              "type": "string"
            },
            "text/plain": [
              "'torch.DoubleTensor'"
            ]
          },
          "metadata": {},
          "execution_count": 32
        }
      ]
    },
    {
      "cell_type": "markdown",
      "metadata": {
        "id": "vsAxO1Sj_yL0"
      },
      "source": [
        "####Converting a torch tensor to numpy array"
      ]
    },
    {
      "cell_type": "code",
      "metadata": {
        "id": "ei-KpF1MZLm9",
        "colab": {
          "base_uri": "https://localhost:8080/"
        },
        "outputId": "f8bf1fe1-cefb-4d5d-9e8f-ee2165114394"
      },
      "source": [
        "z = y.numpy()\n",
        "z.dtype"
      ],
      "execution_count": null,
      "outputs": [
        {
          "output_type": "execute_result",
          "data": {
            "text/plain": [
              "dtype('float64')"
            ]
          },
          "metadata": {},
          "execution_count": 33
        }
      ]
    },
    {
      "cell_type": "markdown",
      "metadata": {
        "id": "lNJZQcnddMoC"
      },
      "source": [
        "**CUDA Tensors**"
      ]
    },
    {
      "cell_type": "markdown",
      "metadata": {
        "id": "U7gXIIyjAXqO"
      },
      "source": [
        "####Checking the availability of CUDA/GPU"
      ]
    },
    {
      "cell_type": "code",
      "metadata": {
        "id": "_wqlDh-VbFWP",
        "colab": {
          "base_uri": "https://localhost:8080/"
        },
        "outputId": "ab9a55d7-b5ca-42c9-aaf1-f0e172eccfd8"
      },
      "source": [
        "torch.cuda.is_available()"
      ],
      "execution_count": null,
      "outputs": [
        {
          "output_type": "execute_result",
          "data": {
            "text/plain": [
              "True"
            ]
          },
          "metadata": {},
          "execution_count": 34
        }
      ]
    },
    {
      "cell_type": "code",
      "metadata": {
        "id": "qkIDqwYPdZpe",
        "colab": {
          "base_uri": "https://localhost:8080/"
        },
        "outputId": "2599b951-ae67-4f77-918a-3a826cd48d00"
      },
      "source": [
        "# Linux bash command to print the status of nvidia gpu (memory and processes) \n",
        "!nvidia-smi"
      ],
      "execution_count": null,
      "outputs": [
        {
          "output_type": "stream",
          "name": "stdout",
          "text": [
            "Sat Oct 23 04:12:52 2021       \n",
            "+-----------------------------------------------------------------------------+\n",
            "| NVIDIA-SMI 470.74       Driver Version: 460.32.03    CUDA Version: 11.2     |\n",
            "|-------------------------------+----------------------+----------------------+\n",
            "| GPU  Name        Persistence-M| Bus-Id        Disp.A | Volatile Uncorr. ECC |\n",
            "| Fan  Temp  Perf  Pwr:Usage/Cap|         Memory-Usage | GPU-Util  Compute M. |\n",
            "|                               |                      |               MIG M. |\n",
            "|===============================+======================+======================|\n",
            "|   0  Tesla K80           Off  | 00000000:00:04.0 Off |                    0 |\n",
            "| N/A   62C    P8    31W / 149W |      3MiB / 11441MiB |      0%      Default |\n",
            "|                               |                      |                  N/A |\n",
            "+-------------------------------+----------------------+----------------------+\n",
            "                                                                               \n",
            "+-----------------------------------------------------------------------------+\n",
            "| Processes:                                                                  |\n",
            "|  GPU   GI   CI        PID   Type   Process name                  GPU Memory |\n",
            "|        ID   ID                                                   Usage      |\n",
            "|=============================================================================|\n",
            "|  No running processes found                                                 |\n",
            "+-----------------------------------------------------------------------------+\n"
          ]
        }
      ]
    },
    {
      "cell_type": "markdown",
      "metadata": {
        "id": "gXpbPJ0dAnze"
      },
      "source": [
        "####Defining the device object (cpu/gpu)"
      ]
    },
    {
      "cell_type": "code",
      "metadata": {
        "id": "0heiVkdBdiAe",
        "colab": {
          "base_uri": "https://localhost:8080/",
          "height": 86
        },
        "outputId": "bc211b85-2b8b-4e0d-a24c-23ec98c4bc87"
      },
      "source": [
        "device = torch.device(\"cuda\")\n",
        "x = torch.rand(3,3)\n",
        "print(x)\n",
        "x.type()"
      ],
      "execution_count": null,
      "outputs": [
        {
          "output_type": "stream",
          "name": "stdout",
          "text": [
            "tensor([[0.2211, 0.3660, 0.6663],\n",
            "        [0.9761, 0.2531, 0.3194],\n",
            "        [0.0789, 0.8388, 0.4951]])\n"
          ]
        },
        {
          "output_type": "execute_result",
          "data": {
            "application/vnd.google.colaboratory.intrinsic+json": {
              "type": "string"
            },
            "text/plain": [
              "'torch.FloatTensor'"
            ]
          },
          "metadata": {},
          "execution_count": 36
        }
      ]
    },
    {
      "cell_type": "code",
      "metadata": {
        "id": "xR2cjesYAsYW",
        "colab": {
          "base_uri": "https://localhost:8080/",
          "height": 35
        },
        "outputId": "30e60f28-47c3-471a-db0e-75ed161643fc"
      },
      "source": [
        "x = x.to(device)\n",
        "x.type()"
      ],
      "execution_count": null,
      "outputs": [
        {
          "output_type": "execute_result",
          "data": {
            "application/vnd.google.colaboratory.intrinsic+json": {
              "type": "string"
            },
            "text/plain": [
              "'torch.cuda.FloatTensor'"
            ]
          },
          "metadata": {},
          "execution_count": 37
        }
      ]
    },
    {
      "cell_type": "markdown",
      "metadata": {
        "id": "DzgU1Lw2A2qc"
      },
      "source": [
        "\n",
        "###Transferring the tensor to the respective device (here cpu->gpu)\n",
        "####Transferring the tensor from gpu->cpu\n"
      ]
    },
    {
      "cell_type": "code",
      "metadata": {
        "id": "V9VMq1zJd-N9",
        "colab": {
          "base_uri": "https://localhost:8080/",
          "height": 35
        },
        "outputId": "e2648476-28e0-435c-f726-f2235a642dfb"
      },
      "source": [
        "# Transferring the tensor from gpu->cpu\n",
        "device_cpu = torch.device(\"cpu\")\n",
        "x = x.to(device_cpu)\n",
        "x.type()"
      ],
      "execution_count": null,
      "outputs": [
        {
          "output_type": "execute_result",
          "data": {
            "application/vnd.google.colaboratory.intrinsic+json": {
              "type": "string"
            },
            "text/plain": [
              "'torch.FloatTensor'"
            ]
          },
          "metadata": {},
          "execution_count": 38
        }
      ]
    },
    {
      "cell_type": "markdown",
      "source": [
        "<h3> Building Block #2 : Computation Graph</h3>\n",
        "    \n",
        "   Computation graphs lie at the heart of the way modern deep learning networks work, and PyTorch is no exception. Let us first get the hang of what they are.\n",
        "   \n",
        "Now, why should we create such a graph when we can sequentially execute operations required to compute the output?\n",
        "\n",
        "Imagine, what were to happen, if you didn’t merely have to calculate the output but also train the network. You’ll have to compute the gradients for all the weights labelled by purple nodes. That would require you to figure your way around chain rule, and then update the weights.\n",
        "\n",
        "<b>The computation graph is simply a data structure that allows you to efficiently apply the chain rule to compute gradients for all of your parameters.</b>\n",
        "\n",
        "<h3> Building Block #3 : Variables</h3>\n",
        "\n",
        "The Variable, just like a Tensor is a class that is used to hold data. It differs, however, in the way it’s meant to be used. <b>Variables are specifically tailored to hold values which change during training of a neural network, i.e. the learnable paramaters of our network.</b> Tensors on the other hand are used to store values that are not to be learned. For example, a Tensor maybe used to store the values of the loss generated by each example.\n",
        "\n",
        "A Variable class wraps a tensor. You can access this tensor by calling <b>.data</b> attribute of a Variable.\n",
        "\n",
        "The Variable also stores the gradient of a scalar quantity (say, loss) with respect to the parameter it holds. This gradient can be accessed by calling the <b>.grad</b> attribute. This is basically the gradient computed up to this particular node, and the gradient of the ever subsequent node, can be computed by multiplying the edge weight with the gradient computed at the node just before it.\n",
        "\n",
        "The third attribute a Variable holds is a <b>grad_fn</b>, a Function object which created the variable.\n",
        "\n",
        "While training neural networks, there are two steps: the forward pass, and the backward pass. Normally, if you were to implement it using python functions, you will have to define two functions. One, to compute the output during forward pass, and another, to compute the gradient to be propagated.\n",
        "\n",
        "<b>PyTorch abstracts the need to write two separate functions (for forward, and for backward pass), into two member of functions of a single class called torch.autograd.Function.</b>\n",
        "\n",
        "PyTorch combines Variables and functions to create a computation graph."
      ],
      "metadata": {
        "id": "z9trmeXjVXH-"
      }
    },
    {
      "cell_type": "code",
      "metadata": {
        "id": "c-nqAVFQjjq7",
        "colab": {
          "base_uri": "https://localhost:8080/"
        },
        "outputId": "07eed7f5-0e72-43e4-e1f7-3115c3f6c521"
      },
      "source": [
        "import torch\n",
        "from torch.autograd import Variable\n",
        "N, D_in, H, D_out=64,1000,100, 10\n",
        "x = Variable(torch.randn(N, D_in), requires_grad=False)\n",
        "y = Variable(torch.randn(N, D_out), requires_grad=False)\n",
        "w1 = Variable(torch.randn(D_in,H), requires_grad=True)\n",
        "w2 = Variable(torch.randn(H, D_out), requires_grad=True)\n",
        "\n",
        "learning_rate = 1e-7\n",
        "for t in range(500):\n",
        "    y_pred = x.mm(w1).clamp(min=0).mm(w2)\n",
        "    loss = (y_pred-y).pow(2).sum()\n",
        "    loss.backward()\n",
        "    w1.data -= learning_rate*w1.grad\n",
        "    w2.data -= learning_rate*w2.grad\n",
        "    w1.grad.data.zero_()\n",
        "    w2.grad.data.zero_()\n",
        "    if t%10==0:\n",
        "      print(loss)"
      ],
      "execution_count": null,
      "outputs": [
        {
          "output_type": "stream",
          "name": "stdout",
          "text": [
            "tensor(27061240., grad_fn=<SumBackward0>)\n",
            "tensor(13434128., grad_fn=<SumBackward0>)\n",
            "tensor(9159480., grad_fn=<SumBackward0>)\n",
            "tensor(6511985., grad_fn=<SumBackward0>)\n",
            "tensor(4774059., grad_fn=<SumBackward0>)\n",
            "tensor(3589752., grad_fn=<SumBackward0>)\n",
            "tensor(2755352.7500, grad_fn=<SumBackward0>)\n",
            "tensor(2152230., grad_fn=<SumBackward0>)\n",
            "tensor(1706294.3750, grad_fn=<SumBackward0>)\n",
            "tensor(1370571., grad_fn=<SumBackward0>)\n",
            "tensor(1114267.7500, grad_fn=<SumBackward0>)\n",
            "tensor(915275.3750, grad_fn=<SumBackward0>)\n",
            "tensor(758856.5000, grad_fn=<SumBackward0>)\n",
            "tensor(634443.7500, grad_fn=<SumBackward0>)\n",
            "tensor(534463.1875, grad_fn=<SumBackward0>)\n",
            "tensor(453379.9688, grad_fn=<SumBackward0>)\n",
            "tensor(387074.9688, grad_fn=<SumBackward0>)\n",
            "tensor(332417.1562, grad_fn=<SumBackward0>)\n",
            "tensor(287119.9062, grad_fn=<SumBackward0>)\n",
            "tensor(249209.7656, grad_fn=<SumBackward0>)\n",
            "tensor(217253.3125, grad_fn=<SumBackward0>)\n",
            "tensor(190165.1094, grad_fn=<SumBackward0>)\n",
            "tensor(167082.4375, grad_fn=<SumBackward0>)\n",
            "tensor(147315.8906, grad_fn=<SumBackward0>)\n",
            "tensor(130322.3438, grad_fn=<SumBackward0>)\n",
            "tensor(115647.5938, grad_fn=<SumBackward0>)\n",
            "tensor(102912.6484, grad_fn=<SumBackward0>)\n",
            "tensor(91832.6328, grad_fn=<SumBackward0>)\n",
            "tensor(82145.8125, grad_fn=<SumBackward0>)\n",
            "tensor(73643.8047, grad_fn=<SumBackward0>)\n",
            "tensor(66168.2266, grad_fn=<SumBackward0>)\n",
            "tensor(59570.0977, grad_fn=<SumBackward0>)\n",
            "tensor(53730.7500, grad_fn=<SumBackward0>)\n",
            "tensor(48546.6992, grad_fn=<SumBackward0>)\n",
            "tensor(43937.3125, grad_fn=<SumBackward0>)\n",
            "tensor(39825.6133, grad_fn=<SumBackward0>)\n",
            "tensor(36150.2969, grad_fn=<SumBackward0>)\n",
            "tensor(32858.5664, grad_fn=<SumBackward0>)\n",
            "tensor(29904.2695, grad_fn=<SumBackward0>)\n",
            "tensor(27248.6562, grad_fn=<SumBackward0>)\n",
            "tensor(24856.8340, grad_fn=<SumBackward0>)\n",
            "tensor(22699.3125, grad_fn=<SumBackward0>)\n",
            "tensor(20750.2109, grad_fn=<SumBackward0>)\n",
            "tensor(18987.1680, grad_fn=<SumBackward0>)\n",
            "tensor(17390.0215, grad_fn=<SumBackward0>)\n",
            "tensor(15941.9336, grad_fn=<SumBackward0>)\n",
            "tensor(14628.5049, grad_fn=<SumBackward0>)\n",
            "tensor(13435.0107, grad_fn=<SumBackward0>)\n",
            "tensor(12350.0322, grad_fn=<SumBackward0>)\n",
            "tensor(11361.9678, grad_fn=<SumBackward0>)\n"
          ]
        }
      ]
    },
    {
      "cell_type": "code",
      "metadata": {
        "colab": {
          "base_uri": "https://localhost:8080/"
        },
        "id": "aMJoTHg8EJKs",
        "outputId": "877cc017-e0d0-4f69-84b3-67164b4653d9"
      },
      "source": [
        "w1.ndim"
      ],
      "execution_count": null,
      "outputs": [
        {
          "output_type": "execute_result",
          "data": {
            "text/plain": [
              "2"
            ]
          },
          "metadata": {
            "tags": []
          },
          "execution_count": 37
        }
      ]
    },
    {
      "cell_type": "code",
      "metadata": {
        "id": "2Uja_PCD-Mvl"
      },
      "source": [
        ""
      ],
      "execution_count": null,
      "outputs": []
    }
  ]
}